{
  "nbformat": 4,
  "nbformat_minor": 0,
  "metadata": {
    "colab": {
      "provenance": []
    },
    "kernelspec": {
      "name": "python3",
      "display_name": "Python 3"
    }
  },
  "cells": [
    {
      "cell_type": "markdown",
      "metadata": {
        "id": "z7nInL55vTxi"
      },
      "source": [
        "# Introduction\n",
        "Genetic algorithms work by iterating over generations of populations and evaluation how well these populations solve a problem. At the end of a generation, the best individuals are selected to produce the next generation. \n",
        "\n",
        "The code presented in this blog has been adapted from:\n",
        "\n",
        "\n",
        "**Zaccone G. (2019). Natural Computing with Python: Learn to implement genetic and evolutionary algorithms for problem solving in a pythonic way. BPB Publications.**\n",
        "\n"
      ]
    },
    {
      "cell_type": "markdown",
      "metadata": {
        "id": "rJxFpNyT3kMx"
      },
      "source": [
        "# Imports\n",
        "First we import all necessary modules."
      ]
    },
    {
      "cell_type": "code",
      "metadata": {
        "id": "lNADfQ4m1_CT"
      },
      "source": [
        "import numpy as np, random, operator, pandas as pd, matplotlib.pyplot as plt"
      ],
      "execution_count": null,
      "outputs": []
    },
    {
      "cell_type": "markdown",
      "metadata": {
        "id": "ViXnTe3z4FR5"
      },
      "source": [
        "# Data Representation\n",
        "Because we are going to work with the simplest form of the TSP, we need a way to represent the data:"
      ]
    },
    {
      "cell_type": "code",
      "metadata": {
        "cellView": "code",
        "id": "ROLT-ZpA1CLC"
      },
      "source": [
        "#Create class to handle \"cities\"\n",
        "\n",
        "class City:\n",
        "    def __init__(self,name, x, y):\n",
        "        self.name = name\n",
        "        self.x = x\n",
        "        self.y = y\n",
        "    \n",
        "    def distance(self, city):\n",
        "        xDis = abs(self.x - city.x)\n",
        "        yDis = abs(self.y - city.y)\n",
        "        distance = np.sqrt((xDis ** 2) + (yDis ** 2))\n",
        "        return distance\n",
        "    \n",
        "    def __repr__(self):\n",
        "        return \"(\" + str(self.name)+ \")\"\n"
      ],
      "execution_count": null,
      "outputs": []
    },
    {
      "cell_type": "markdown",
      "metadata": {
        "id": "gNEDY-zc4iMN"
      },
      "source": [
        "# How the algorithm works?"
      ]
    },
    {
      "cell_type": "markdown",
      "metadata": {
        "id": "hYM1BG7r5guj"
      },
      "source": [
        "## The concept of individual\n",
        "An individual can be seen as a single instance of the problem, for this case it's easy to see that the individual is the sequence of \"cities\" and the order that they are visited."
      ]
    },
    {
      "cell_type": "markdown",
      "metadata": {
        "id": "x1s3gUe54ufz"
      },
      "source": [
        "## Fitness\n",
        "Genetic algorithms mimic natural structures using the idea of \"Survival of the fittest\", so it's important to define a common fitness function for all individuals. For this case, the fitness of an individual is the sum of the distance for each pair of consecutive cities, including the sum of the last city in the sequence and the first (because TSP forms a loop).\n",
        ">$Fitness=[\\sum_{i=1}^{N-1} Distance(City_{i},City_{i+1})]+Distance(City_{N},City_{1})$\n",
        "\n",
        "This \"Distance\" function is just the euclidian distance between each city."
      ]
    },
    {
      "cell_type": "code",
      "metadata": {
        "id": "zQegs4FO5dki"
      },
      "source": [
        "#Create a fitness function\n",
        "\n",
        "class Fitness:\n",
        "    def __init__(self, route):\n",
        "        self.route = route\n",
        "        self.distance = 0\n",
        "        self.fitness= 0.0\n",
        "    \n",
        "    def routeDistance(self):\n",
        "        if self.distance ==0:\n",
        "            pathDistance = 0\n",
        "            for i in range(0, len(self.route)):\n",
        "                fromCity = self.route[i]\n",
        "                toCity = None\n",
        "                if i + 1 < len(self.route):\n",
        "                    toCity = self.route[i + 1]\n",
        "                else:\n",
        "                    toCity = self.route[0]\n",
        "                pathDistance += fromCity.distance(toCity)\n",
        "            self.distance = pathDistance\n",
        "        return self.distance\n",
        "    '''\n",
        "    The first line of the method checks if the distance variable has already been calculated for this route. If it has not been calculated \n",
        "    (i.e., distance is 0), then it proceeds with the distance calculation. This is done to avoid redundant calculations in case the method is called \n",
        "    multiple times with the same route.\n",
        "\n",
        "    The for loop that iterates over each city in the route. For each city, it calculates the distance to the next city in the route (wrapping around to \n",
        "    the beginning if the end of the route is reached). The fromCity variable is set to the current city, and the toCity variable is set to the next city \n",
        "    in the route (or the first city if the end of the route is reached).\n",
        "\n",
        "    pathDistance += fromCity.distance(toCity) -> This line calculates the distance between the current city and the next city using the distance() method \n",
        "    of the City class\n",
        "    '''\n",
        "    \n",
        "    def routeFitness(self):\n",
        "        if self.fitness == 0:\n",
        "            self.fitness = 1 / float(self.routeDistance())\n",
        "        return self.fitness"
      ],
      "execution_count": null,
      "outputs": []
    },
    {
      "cell_type": "markdown",
      "metadata": {
        "id": "wyC-WOKx8VxV"
      },
      "source": [
        "## Mutation and Breeding\n",
        "The algorithm creates the next generations using two methods, either mutating single individuals based on a probability, or \"mating\" two individual to create a new one. Here we define all necesarry functions to perform the algorithm."
      ]
    },
    {
      "cell_type": "code",
      "metadata": {
        "id": "FuwftVHw81yz",
        "colab": {
          "base_uri": "https://localhost:8080/",
          "height": 140
        },
        "outputId": "3c7a5a3b-136b-44ca-9d1b-4a8343986d61"
      },
      "source": [
        "#Create our initial population\n",
        "#Route generator\n",
        "#This method randomizes the order of the cities, this mean that this method creates a random individual.\n",
        "def createRoute(cityList):\n",
        "    route = random.sample(cityList, len(cityList))\n",
        "    return route\n",
        "\n",
        "\n",
        "\n",
        "\n",
        "#Create first \"population\" (list of routes)\n",
        "#This method created a random population of the specified size.\n",
        "\n",
        "def initialPopulation(popSize, cityList):\n",
        "    population = []\n",
        "\n",
        "    for i in range(0, popSize):\n",
        "        population.append(createRoute(cityList))\n",
        "    return population\n",
        "\n",
        "\n",
        "\n",
        "\n",
        "#Create the genetic algorithm\n",
        "#Rank individuals\n",
        "#This function takes a population and orders it in descending order using the fitness of each individual\n",
        "def rankRoutes(population):\n",
        "    fitnessResults = {}\n",
        "    for i in range(0,len(population)):\n",
        "        fitnessResults[i] = Fitness(population[i]).routeFitness()\n",
        "    sorted_results=sorted(fitnessResults.items(), key = operator.itemgetter(1), reverse = True)\n",
        "    return sorted_results\n",
        "\n",
        "\n",
        "\n",
        "\n",
        "#Create a selection function that will be used to make the list of parent routes\n",
        "def selection(popRanked, eliteSize):\n",
        "    selectionResults = []  # Create an empty list to store selected individuals\n",
        "    df = pd.DataFrame(np.array(popRanked), columns=[\"Index\",\"Fitness\"])  # Convert the population to a pandas dataframe with two columns - index and \n",
        "    # fitness\n",
        "    df['cum_sum'] = df.Fitness.cumsum()  # Add a new column called cum_sum, which is the cumulative sum of fitness\n",
        "    df['cum_perc'] = 100*df.cum_sum/df.Fitness.sum()  # Add another new column called cum_perc, which is the percentage of the total fitness that each \n",
        "    # individual represents\n",
        "    \n",
        "    for i in range(0, eliteSize):  # Select the elite individuals (top performers) and add their indices to selectionResults\n",
        "        selectionResults.append(popRanked[i][0])\n",
        "    for i in range(0, len(popRanked) - eliteSize):  # Select the remaining individuals using roulette wheel selection\n",
        "        pick = 100*random.random()  # Generate a random number between 0 and 100\n",
        "        for i in range(0, len(popRanked)):\n",
        "            if pick <= df.iat[i,3]:  # If the random number is less than or equal to the cumulative percentage of an individual's fitness, select that \n",
        "            # individual\n",
        "                selectionResults.append(popRanked[i][0])\n",
        "                break\n",
        "    return selectionResults  # Return the list of selected individuals\n",
        "    # selectionResults is a list of indices that represent the selected individuals in the population based on their fitness.\n",
        "\n",
        "\n",
        "\n",
        "\n",
        "#Create mating pool\n",
        "def matingPool(population, selectionResults):\n",
        "    matingpool = []\n",
        "    for i in range(0, len(selectionResults)):\n",
        "        index = selectionResults[i]\n",
        "        matingpool.append(population[index])\n",
        "    return matingpool # returns the list of selected individuals.\n",
        "\n",
        "\n",
        "\n",
        "\n",
        "#Create a crossover function for two parents to create one child\n",
        "def breed(parent1, parent2):\n",
        "    child = []\n",
        "    childP1 = []\n",
        "    childP2 = []\n",
        "    \n",
        "    geneA = int(random.random() * len(parent1))\n",
        "    geneB = int(random.random() * len(parent1))\n",
        "    \n",
        "    startGene = min(geneA, geneB)\n",
        "    endGene = max(geneA, geneB)\n",
        "\n",
        "    for i in range(startGene, endGene):\n",
        "        childP1.append(parent1[i])\n",
        "        \n",
        "\n",
        "    childP2 = [item for item in parent2 if item not in childP1]\n",
        "    #print(startGene, endGene)\n",
        "\n",
        "    #print(parent1)\n",
        "    #print(parent2)\n",
        "\n",
        "    #print(childP1)\n",
        "    #print(childP2)\n",
        "    child = childP1 + childP2\n",
        "\n",
        "    #print(child)\n",
        "    return child\n",
        "'''\n",
        "1. breed(parent1, parent2) - This is the function signature that takes in two parent individuals to create a new child individual.\n",
        "2. child = [] - This initializes an empty list to hold the child individual.\n",
        "3. childP1 = [] and childP2 = [] - These are the two halves of the child individual that are created by combining the genes of the two parents.\n",
        "4. geneA = int(random.random() * len(parent1)) and geneB = int(random.random() * len(parent1)) - These lines generate two random integers between 0 and \n",
        "the length of the parent individual minus 1.\n",
        "5. startGene = min(geneA, geneB) and endGene = max(geneA, geneB) - These lines determine the start and end positions of the gene segment to be inherited \n",
        "from one parent. The smaller of the two random integers is used as the starting position and the larger is used as the ending position.\n",
        "6. for i in range(startGene, endGene): childP1.append(parent1[i]) - This loop copies the selected gene segment from the first parent and adds it to \n",
        "childP1.\n",
        "7. childP2 = [item for item in parent2 if item not in childP1] - This line creates childP2 by copying the remaining genes from the second parent that were \n",
        "not already included in childP1.\n",
        "8. child = childP1 + childP2 - This line concatenates childP1 and childP2 to form the complete child individual.\n",
        "9. return child - This line returns the child individual created by combining the genes of the two parents.\n",
        "'''\n",
        "\n",
        "\n",
        "\n",
        "# Create function to run crossover over full mating pool\n",
        "def breedPopulation(matingpool, eliteSize):\n",
        "    children = []\n",
        "    length = len(matingpool) - eliteSize\n",
        "    pool = random.sample(matingpool, len(matingpool))\n",
        "\n",
        "    for i in range(0,eliteSize):\n",
        "        children.append(matingpool[i])\n",
        "    \n",
        "    for i in range(0, length):\n",
        "        child = breed(pool[i], pool[len(matingpool)-i-1])\n",
        "        children.append(child)\n",
        "    return children\n",
        "'''\n",
        "1. The breedPopulation() method takes in two parameters: matingpool and eliteSize.\n",
        "2. The method initializes an empty list called children.\n",
        "3. It calculates the length of the mating pool minus the elite size and stores the result in the variable length.\n",
        "4. The method creates a new list called pool by randomly sampling from the matingpool list using the random.sample() method. This creates a new list \n",
        "of the same size as matingpool, but with the order of elements randomized.\n",
        "5. The method adds the eliteSize best individuals from the matingpool list to the children list. These individuals were selected based on their fitness \n",
        "rank, as determined by the rankRoutes() method.\n",
        "6. The method then enters a loop that will generate the rest of the children in the children list. The loop runs for length iterations, which is the \n",
        "number of children needed to fill out the population size.\n",
        "7. The method creates a new child by calling the breed() method with two parents randomly chosen from the pool list.\n",
        "8. The child is added to the children list.\n",
        "9. Finally, the children list is returned, containing the new population of individuals created by breeding the parents in the matingpool list.\n",
        "'''\n",
        "\n",
        "\n",
        "\n",
        "#Create function to mutate a single route\n",
        "def mutate(individual, mutationRate):\n",
        "    for swapped in range(len(individual)):\n",
        "        if(random.random() < mutationRate):\n",
        "            swapWith = int(random.random() * len(individual))\n",
        "            \n",
        "            city1 = individual[swapped]\n",
        "            city2 = individual[swapWith]\n",
        "            \n",
        "            individual[swapped] = city2\n",
        "            individual[swapWith] = city1\n",
        "    return individual\n",
        "'''\n",
        "1. def mutate(individual, mutationRate): defines the mutate() function with two parameters:\n",
        "    individual: a list representing a single route\n",
        "    mutationRate: the probability of any given gene in the route being mutated\n",
        "2. for swapped in range(len(individual)): swapped iterates through each index of the route.\n",
        "3. if(random.random() < mutationRate): With probability mutationRate, the genes at the current index will be mutated.\n",
        "4. swapWith = int(random.random() * len(individual)) Generates a random index to swap with the current index.\n",
        "5. city1 = individual[swapped] and city2 = individual[swapWith] Save the original values of the two genes being swapped for reference.\n",
        "6. individual[swapped] = city2 and individual[swapWith] = city1 Swap the values of the two genes.\n",
        "7. return individual Return the mutated route.\n",
        "'''\n",
        "\n",
        "\n",
        "\n",
        "#Create function to run mutation over entire population\n",
        "def mutatePopulation(population, mutationRate):\n",
        "    mutatedPop = []\n",
        "    \n",
        "    for ind in range(0, len(population)):\n",
        "        mutatedInd = mutate(population[ind], mutationRate)\n",
        "        mutatedPop.append(mutatedInd)\n",
        "    return mutatedPop\n",
        "'''\n",
        "1. The mutatePopulation() function takes in two arguments: population and mutationRate. The population argument is a list of individuals, where each \n",
        "individual is represented as a list of cities (i.e., a route). The mutationRate argument is a probability that determines the likelihood that a \n",
        "mutation will occur in an individual. The function initializes an empty list called mutatedPop to store the mutated individuals.\n",
        "2. The function iterates over each individual in the population list, and for each individual, it calls the mutate() method (which we explained earlier) \n",
        "with the individual and mutationRate arguments. The mutate() method mutates the individual with the specified probability and returns the mutated \n",
        "individual. The function then adds the mutated individual to the mutatedPop list. After iterating over all individuals in the population list, the \n",
        "function returns the mutatedPop list containing all the mutated individuals.\n",
        "\n",
        "In summary, the mutatePopulation() method applies the mutate() method to each individual in the population with a specified mutation rate, and returns \n",
        "a new population containing the mutated individuals. This process helps to introduce genetic diversity into the population, which is essential for the \n",
        "genetic algorithm to explore different parts of the search space.\n",
        "'''\n",
        "\n",
        "\n",
        "\n",
        "#Put all steps together to create the next generation\n",
        "def nextGeneration(currentGen, eliteSize, mutationRate):\n",
        "    popRanked = rankRoutes(currentGen)\n",
        "    selectionResults = selection(popRanked, eliteSize)\n",
        "    matingpool = matingPool(currentGen, selectionResults)\n",
        "    children = breedPopulation(matingpool, eliteSize)\n",
        "    nextGeneration = mutatePopulation(children, mutationRate)\n",
        "    return nextGeneration\n",
        "'''\n",
        "1. def nextGeneration(currentGen, eliteSize, mutationRate):: This is the function definition, which takes three arguments:\n",
        "    currentGen: The current generation or population of routes.\n",
        "    eliteSize: The size of the elite population, which are the fittest routes that will pass unchanged to the next generation.\n",
        "    mutationRate: The probability that a given individual will undergo mutation.\n",
        "2. popRanked = rankRoutes(currentGen): This line ranks the individuals in the current generation by their fitness values and returns a list of tuples \n",
        "with the index and fitness of each individual. popRanked is the result of calling the rankRoutes() function with currentGen as its argument.\n",
        "3. selectionResults = selection(popRanked, eliteSize): This line calls the selection() function with popRanked and eliteSize as arguments to create a \n",
        "list of the indices of the routes that will be included in the mating pool.\n",
        "4. matingpool = matingPool(currentGen, selectionResults): This line calls the matingPool() function with currentGen and selectionResults as arguments \n",
        "to create a list of the routes that will be used to create the children in the next generation.\n",
        "5. children = breedPopulation(matingpool, eliteSize): This line calls the breedPopulation() function with matingpool and eliteSize as arguments to \n",
        "create a list of children that will replace the routes that were not selected to be part of the elite population in the current generation.\n",
        "6. nextGeneration = mutatePopulation(children, mutationRate): This line calls the mutatePopulation() function with children and mutationRate as \n",
        "arguments to apply mutation to the children and create the next generation.\n",
        "7. return nextGeneration: This line returns the next generation of routes, which will be used as the current generation in the next iteration of the \n",
        "genetic algorithm.\n",
        "'''"
      ],
      "execution_count": null,
      "outputs": [
        {
          "output_type": "execute_result",
          "data": {
            "text/plain": [
              "'\\n1. def nextGeneration(currentGen, eliteSize, mutationRate):: This is the function definition, which takes three arguments:\\n    currentGen: The current generation or population of routes.\\n    eliteSize: The size of the elite population, which are the fittest routes that will pass unchanged to the next generation.\\n    mutationRate: The probability that a given individual will undergo mutation.\\n2. popRanked = rankRoutes(currentGen): This line ranks the individuals in the current generation by their fitness values and returns a list of tuples \\nwith the index and fitness of each individual. popRanked is the result of calling the rankRoutes() function with currentGen as its argument.\\n3. selectionResults = selection(popRanked, eliteSize): This line calls the selection() function with popRanked and eliteSize as arguments to create a \\nlist of the indices of the routes that will be included in the mating pool.\\n4. matingpool = matingPool(currentGen, selectionResults): This line calls the matingPool() function with currentGen and selectionResults as arguments \\nto create a list of the routes that will be used to create the children in the next generation.\\n5. children = breedPopulation(matingpool, eliteSize): This line calls the breedPopulation() function with matingpool and eliteSize as arguments to \\ncreate a list of children that will replace the routes that were not selected to be part of the elite population in the current generation.\\n6. nextGeneration = mutatePopulation(children, mutationRate): This line calls the mutatePopulation() function with children and mutationRate as \\narguments to apply mutation to the children and create the next generation.\\n7. return nextGeneration: This line returns the next generation of routes, which will be used as the current generation in the next iteration of the \\ngenetic algorithm.\\n'"
            ],
            "application/vnd.google.colaboratory.intrinsic+json": {
              "type": "string"
            }
          },
          "metadata": {},
          "execution_count": 29
        }
      ]
    },
    {
      "cell_type": "markdown",
      "metadata": {
        "id": "8GdneBpn9QP6"
      },
      "source": [
        "## The genetic algorithm\n",
        "With all these function defined, all that is left is to write the definition of the genetic algorithm."
      ]
    },
    {
      "cell_type": "code",
      "metadata": {
        "id": "qbYbvW739aE7"
      },
      "source": [
        "#Final step: create the genetic algorithm\n",
        "\n",
        "def geneticAlgorithm(population, popSize, eliteSize, mutationRate, generations):\n",
        "    pop = initialPopulation(popSize, population) # This line creates an initial population of popSize individuals using the initialPopulation() function \n",
        "    # defined earlier, using the population parameter as the possible gene pool.\n",
        "    progress = [1 / rankRoutes(pop)[0][1]] # This line initializes a list named progress with the inverse of the fitness value of the best route in the \n",
        "    # initial population. This value is obtained by calling the rankRoutes() function on the initial population and then indexing into the resulting \n",
        "    # tuple to get the fitness of the best route.\n",
        "    #print(\"Initial distance: \" + str(progress[0])) # This line prints out the initial best fitness value.\n",
        "    \n",
        "    for i in range(1, generations+1): # This line starts a for loop that will run for generations iterations.\n",
        "        \n",
        "        pop = nextGeneration(pop, eliteSize, mutationRate) # This line generates the next generation of the population using the nextGeneration() \n",
        "        # function and the current population, pop, along with the eliteSize and mutationRate parameters.\n",
        "        progress.append(1 / rankRoutes(pop)[0][1]) # This line appends the inverse of the fitness value of the best route in the current population \n",
        "        # to the progress list.\n",
        "        #if i%50==0:\n",
        "        #  print('Generation '+str(i),\"Distance: \",progress[i]) # This line checks if the current iteration number is a multiple of 50, and if so, \n",
        "          # it prints out the current iteration number along with the best fitness value so far.\n",
        "        \n",
        "        \n",
        "    bestRouteIndex = rankRoutes(pop)[0][0]\n",
        "    bestRoute = pop[bestRouteIndex]\n",
        "    # This line finds the index of the best route in the final population using the rankRoutes() function and then retrieves that route from the \n",
        "    # population.\n",
        "    \n",
        "    plt.plot(progress)\n",
        "    plt.ylabel('Distance')\n",
        "    plt.xlabel('Generation')\n",
        "    plt.title('Best Fitness vs Generation')\n",
        "    plt.tight_layout()\n",
        "    plt.show()\n",
        "    \n",
        "    return bestRoute # This line returns the best route found by the genetic algorithm."
      ],
      "execution_count": null,
      "outputs": []
    },
    {
      "cell_type": "markdown",
      "metadata": {
        "id": "Zsu9Ln579pk2"
      },
      "source": [
        "## Testing\n",
        "Know we create a list of cities and run the algorithm, this should return the best route found in the last generation."
      ]
    },
    {
      "cell_type": "code",
      "metadata": {
        "id": "Qh7Hvfqb97MV",
        "outputId": "242f2e38-4310-4aa3-8f26-394defaf84e4",
        "colab": {
          "base_uri": "https://localhost:8080/",
          "height": 734
        }
      },
      "source": [
        "%%time \n",
        "#Running the genetic algorithm\n",
        "#Create list of cities\n",
        "\n",
        "cityList = []\n",
        "\n",
        "for i in range(0,21):\n",
        "    cityList.append(City(name = i, x=int(random.random() * 400), y=int(random.random() * 400)))\n",
        "\n",
        "\n",
        "best_route=geneticAlgorithm(population=cityList, popSize=40, eliteSize=20, mutationRate=0.01, generations=800)\n",
        "x=[]\n",
        "y=[]\n",
        "for i in best_route:\n",
        "  x.append(i.x)\n",
        "  y.append(i.y)\n",
        "x.append(best_route[0].x)\n",
        "y.append(best_route[0].y)\n",
        "plt.plot(x, y, '--o')\n",
        "plt.xlabel('X')\n",
        "plt.ylabel('Y')\n",
        "ax=plt.gca()\n",
        "plt.title('Final Route Layout')\n",
        "bbox_props = dict(boxstyle=\"circle,pad=0.3\", fc='C0', ec=\"black\", lw=0.5)\n",
        "for i in range(1,len(cityList)+1):\n",
        "  ax.text(cityList[i-1].x, cityList[i-1].y, str(i), ha=\"center\", va=\"center\",\n",
        "            size=8,\n",
        "            bbox=bbox_props)\n",
        "plt.tight_layout()\n",
        "plt.show()\n",
        "'''\n",
        "1. cityList = [] - create an empty list called cityList to store the City objects.\n",
        "2. for i in range(0,5): - loop through a range of 0 to 4.\n",
        "3. cityList.append(City(name = i, x=int(random.random() * 200), y=int(random.random() * 200))) - create a new City object with a randomly generated x \n",
        "and y coordinates and append it to the cityList.\n",
        "4. best_route=geneticAlgorithm(population=cityList, popSize=30, eliteSize=20, mutationRate=0.01, generations=1) - call the geneticAlgorithm function with \n",
        "the cityList as the population, a population size of 30, elite size of 20, mutation rate of 0.01 and 1 generation.\n",
        "5. x=[] and y=[] - create empty lists to store the x and y coordinates of the best route.\n",
        "6. for i in best_route: x.append(i.x) and for i in best_route: y.append(i.y) - loop through the City objects in the best_route and append their x and y \n",
        "coordinates to the x and y lists.\n",
        "7. x.append(best_route[0].x) and y.append(best_route[0].y) - append the x and y coordinates of the first city in the best_route to the x and y lists to \n",
        "complete the circuit.\n",
        "8. plt.plot(x, y, '--o') - plot the x and y coordinates of the best_route as a dashed line with dots.\n",
        "9. plt.xlabel('X') and plt.ylabel('Y') - set the labels for the x and y axis.\n",
        "10. ax=plt.gca() - get the current axis of the plot.\n",
        "11. plt.title('Final Route Layout') - set the title of the plot.\n",
        "12. bbox_props = dict(boxstyle=\"circle,pad=0.3\", fc='C0', ec=\"black\", lw=0.5) - create a dictionary containing the properties of the text box that will \n",
        "be used to label the cities.\n",
        "13. for i in range(1,len(cityList)+1): - loop through a range of 1 to the length of cityList.\n",
        "14. ax.text(cityList[i-1].x, cityList[i-1].y, str(i), ha=\"center\", va=\"center\",size=8,bbox=bbox_props) - add a text box containing the number of the city \n",
        "at the x and y coordinates of the City object in cityList.\n",
        "15. plt.tight_layout() - adjust the padding of the plot to ensure all elements are visible.\n",
        "16. plt.show() - display the plot on the screen.\n",
        "'''"
      ],
      "execution_count": null,
      "outputs": [
        {
          "output_type": "display_data",
          "data": {
            "text/plain": [
              "<Figure size 432x288 with 1 Axes>"
            ],
            "image/png": "[encoded data removed]"
          },
          "metadata": {
            "needs_background": "light"
          }
        },
        {
          "output_type": "display_data",
          "data": {
            "text/plain": [
              "<Figure size 432x288 with 1 Axes>"
            ],
            "image/png": "[encoded data removed]"
          },
          "metadata": {
            "needs_background": "light"
          }
        },
        {
          "output_type": "stream",
          "name": "stdout",
          "text": [
            "CPU times: user 11.9 s, sys: 339 ms, total: 12.2 s\n",
            "Wall time: 11.9 s\n"
          ]
        },
        {
          "output_type": "execute_result",
          "data": {
            "text/plain": [
              "'\\n1. cityList = [] - create an empty list called cityList to store the City objects.\\n2. for i in range(0,5): - loop through a range of 0 to 4.\\n3. cityList.append(City(name = i, x=int(random.random() * 200), y=int(random.random() * 200))) - create a new City object with a randomly generated x \\nand y coordinates and append it to the cityList.\\n4. best_route=geneticAlgorithm(population=cityList, popSize=30, eliteSize=20, mutationRate=0.01, generations=1) - call the geneticAlgorithm function with \\nthe cityList as the population, a population size of 30, elite size of 20, mutation rate of 0.01 and 1 generation.\\n5. x=[] and y=[] - create empty lists to store the x and y coordinates of the best route.\\n6. for i in best_route: x.append(i.x) and for i in best_route: y.append(i.y) - loop through the City objects in the best_route and append their x and y \\ncoordinates to the x and y lists.\\n7. x.append(best_route[0].x) and y.append(best_route[0].y) - append the x and y coordinates of the first city in the best_route to the x and y lists to \\ncomplete the circuit.\\n8. plt.plot(x, y, \\'--o\\') - plot the x and y coordinates of the best_route as a dashed line with dots.\\n9. plt.xlabel(\\'X\\') and plt.ylabel(\\'Y\\') - set the labels for the x and y axis.\\n10. ax=plt.gca() - get the current axis of the plot.\\n11. plt.title(\\'Final Route Layout\\') - set the title of the plot.\\n12. bbox_props = dict(boxstyle=\"circle,pad=0.3\", fc=\\'C0\\', ec=\"black\", lw=0.5) - create a dictionary containing the properties of the text box that will \\nbe used to label the cities.\\n13. for i in range(1,len(cityList)+1): - loop through a range of 1 to the length of cityList.\\n14. ax.text(cityList[i-1].x, cityList[i-1].y, str(i), ha=\"center\", va=\"center\",size=8,bbox=bbox_props) - add a text box containing the number of the city \\nat the x and y coordinates of the City object in cityList.\\n15. plt.tight_layout() - adjust the padding of the plot to ensure all elements are visible.\\n16. plt.show() - display the plot on the screen.\\n'"
            ],
            "application/vnd.google.colaboratory.intrinsic+json": {
              "type": "string"
            }
          },
          "metadata": {},
          "execution_count": 32
        }
      ]
    }
  ]
}